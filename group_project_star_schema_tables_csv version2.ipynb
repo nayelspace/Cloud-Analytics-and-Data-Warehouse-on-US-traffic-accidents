{
 "cells": [
  {
   "cell_type": "code",
   "execution_count": 1,
   "metadata": {},
   "outputs": [],
   "source": [
    "import pandas as pd"
   ]
  },
  {
   "cell_type": "code",
   "execution_count": 2,
   "metadata": {},
   "outputs": [
    {
     "data": {
      "text/html": [
       "<div>\n",
       "<style scoped>\n",
       "    .dataframe tbody tr th:only-of-type {\n",
       "        vertical-align: middle;\n",
       "    }\n",
       "\n",
       "    .dataframe tbody tr th {\n",
       "        vertical-align: top;\n",
       "    }\n",
       "\n",
       "    .dataframe thead th {\n",
       "        text-align: right;\n",
       "    }\n",
       "</style>\n",
       "<table border=\"1\" class=\"dataframe\">\n",
       "  <thead>\n",
       "    <tr style=\"text-align: right;\">\n",
       "      <th></th>\n",
       "      <th>ID</th>\n",
       "      <th>Severity</th>\n",
       "      <th>Start_Time</th>\n",
       "      <th>End_Time</th>\n",
       "      <th>Start_Lat</th>\n",
       "      <th>Start_Lng</th>\n",
       "      <th>End_Lat</th>\n",
       "      <th>End_Lng</th>\n",
       "      <th>Distance(mi)</th>\n",
       "      <th>Description</th>\n",
       "      <th>...</th>\n",
       "      <th>Roundabout</th>\n",
       "      <th>Station</th>\n",
       "      <th>Stop</th>\n",
       "      <th>Traffic_Calming</th>\n",
       "      <th>Traffic_Signal</th>\n",
       "      <th>Turning_Loop</th>\n",
       "      <th>Sunrise_Sunset</th>\n",
       "      <th>Civil_Twilight</th>\n",
       "      <th>Nautical_Twilight</th>\n",
       "      <th>Astronomical_Twilight</th>\n",
       "    </tr>\n",
       "  </thead>\n",
       "  <tbody>\n",
       "    <tr>\n",
       "      <th>0</th>\n",
       "      <td>A-1</td>\n",
       "      <td>3</td>\n",
       "      <td>2016-02-08 00:37:08</td>\n",
       "      <td>2016-02-08 06:37:08</td>\n",
       "      <td>40.108910</td>\n",
       "      <td>-83.092860</td>\n",
       "      <td>40.112060</td>\n",
       "      <td>-83.031870</td>\n",
       "      <td>3.230</td>\n",
       "      <td>Between Sawmill Rd/Exit 20 and OH-315/Olentang...</td>\n",
       "      <td>...</td>\n",
       "      <td>False</td>\n",
       "      <td>False</td>\n",
       "      <td>False</td>\n",
       "      <td>False</td>\n",
       "      <td>False</td>\n",
       "      <td>False</td>\n",
       "      <td>Night</td>\n",
       "      <td>Night</td>\n",
       "      <td>Night</td>\n",
       "      <td>Night</td>\n",
       "    </tr>\n",
       "    <tr>\n",
       "      <th>1</th>\n",
       "      <td>A-2</td>\n",
       "      <td>2</td>\n",
       "      <td>2016-02-08 05:56:20</td>\n",
       "      <td>2016-02-08 11:56:20</td>\n",
       "      <td>39.865420</td>\n",
       "      <td>-84.062800</td>\n",
       "      <td>39.865010</td>\n",
       "      <td>-84.048730</td>\n",
       "      <td>0.747</td>\n",
       "      <td>At OH-4/OH-235/Exit 41 - Accident.</td>\n",
       "      <td>...</td>\n",
       "      <td>False</td>\n",
       "      <td>False</td>\n",
       "      <td>False</td>\n",
       "      <td>False</td>\n",
       "      <td>False</td>\n",
       "      <td>False</td>\n",
       "      <td>Night</td>\n",
       "      <td>Night</td>\n",
       "      <td>Night</td>\n",
       "      <td>Night</td>\n",
       "    </tr>\n",
       "    <tr>\n",
       "      <th>2</th>\n",
       "      <td>A-3</td>\n",
       "      <td>2</td>\n",
       "      <td>2016-02-08 06:15:39</td>\n",
       "      <td>2016-02-08 12:15:39</td>\n",
       "      <td>39.102660</td>\n",
       "      <td>-84.524680</td>\n",
       "      <td>39.102090</td>\n",
       "      <td>-84.523960</td>\n",
       "      <td>0.055</td>\n",
       "      <td>At I-71/US-50/Exit 1 - Accident.</td>\n",
       "      <td>...</td>\n",
       "      <td>False</td>\n",
       "      <td>False</td>\n",
       "      <td>False</td>\n",
       "      <td>False</td>\n",
       "      <td>False</td>\n",
       "      <td>False</td>\n",
       "      <td>Night</td>\n",
       "      <td>Night</td>\n",
       "      <td>Night</td>\n",
       "      <td>Day</td>\n",
       "    </tr>\n",
       "    <tr>\n",
       "      <th>3</th>\n",
       "      <td>A-4</td>\n",
       "      <td>2</td>\n",
       "      <td>2016-02-08 06:51:45</td>\n",
       "      <td>2016-02-08 12:51:45</td>\n",
       "      <td>41.062130</td>\n",
       "      <td>-81.537840</td>\n",
       "      <td>41.062170</td>\n",
       "      <td>-81.535470</td>\n",
       "      <td>0.123</td>\n",
       "      <td>At Dart Ave/Exit 21 - Accident.</td>\n",
       "      <td>...</td>\n",
       "      <td>False</td>\n",
       "      <td>False</td>\n",
       "      <td>False</td>\n",
       "      <td>False</td>\n",
       "      <td>False</td>\n",
       "      <td>False</td>\n",
       "      <td>Night</td>\n",
       "      <td>Night</td>\n",
       "      <td>Day</td>\n",
       "      <td>Day</td>\n",
       "    </tr>\n",
       "    <tr>\n",
       "      <th>4</th>\n",
       "      <td>A-5</td>\n",
       "      <td>3</td>\n",
       "      <td>2016-02-08 07:53:43</td>\n",
       "      <td>2016-02-08 13:53:43</td>\n",
       "      <td>39.172393</td>\n",
       "      <td>-84.492792</td>\n",
       "      <td>39.170476</td>\n",
       "      <td>-84.501798</td>\n",
       "      <td>0.500</td>\n",
       "      <td>At Mitchell Ave/Exit 6 - Accident.</td>\n",
       "      <td>...</td>\n",
       "      <td>False</td>\n",
       "      <td>False</td>\n",
       "      <td>False</td>\n",
       "      <td>False</td>\n",
       "      <td>False</td>\n",
       "      <td>False</td>\n",
       "      <td>Day</td>\n",
       "      <td>Day</td>\n",
       "      <td>Day</td>\n",
       "      <td>Day</td>\n",
       "    </tr>\n",
       "  </tbody>\n",
       "</table>\n",
       "<p>5 rows × 47 columns</p>\n",
       "</div>"
      ],
      "text/plain": [
       "    ID  Severity           Start_Time             End_Time  Start_Lat  \\\n",
       "0  A-1         3  2016-02-08 00:37:08  2016-02-08 06:37:08  40.108910   \n",
       "1  A-2         2  2016-02-08 05:56:20  2016-02-08 11:56:20  39.865420   \n",
       "2  A-3         2  2016-02-08 06:15:39  2016-02-08 12:15:39  39.102660   \n",
       "3  A-4         2  2016-02-08 06:51:45  2016-02-08 12:51:45  41.062130   \n",
       "4  A-5         3  2016-02-08 07:53:43  2016-02-08 13:53:43  39.172393   \n",
       "\n",
       "   Start_Lng    End_Lat    End_Lng  Distance(mi)  \\\n",
       "0 -83.092860  40.112060 -83.031870         3.230   \n",
       "1 -84.062800  39.865010 -84.048730         0.747   \n",
       "2 -84.524680  39.102090 -84.523960         0.055   \n",
       "3 -81.537840  41.062170 -81.535470         0.123   \n",
       "4 -84.492792  39.170476 -84.501798         0.500   \n",
       "\n",
       "                                         Description  ...  Roundabout Station  \\\n",
       "0  Between Sawmill Rd/Exit 20 and OH-315/Olentang...  ...       False   False   \n",
       "1                 At OH-4/OH-235/Exit 41 - Accident.  ...       False   False   \n",
       "2                   At I-71/US-50/Exit 1 - Accident.  ...       False   False   \n",
       "3                    At Dart Ave/Exit 21 - Accident.  ...       False   False   \n",
       "4                 At Mitchell Ave/Exit 6 - Accident.  ...       False   False   \n",
       "\n",
       "    Stop Traffic_Calming Traffic_Signal Turning_Loop Sunrise_Sunset  \\\n",
       "0  False           False          False        False          Night   \n",
       "1  False           False          False        False          Night   \n",
       "2  False           False          False        False          Night   \n",
       "3  False           False          False        False          Night   \n",
       "4  False           False          False        False            Day   \n",
       "\n",
       "  Civil_Twilight Nautical_Twilight Astronomical_Twilight  \n",
       "0          Night             Night                 Night  \n",
       "1          Night             Night                 Night  \n",
       "2          Night             Night                   Day  \n",
       "3          Night               Day                   Day  \n",
       "4            Day               Day                   Day  \n",
       "\n",
       "[5 rows x 47 columns]"
      ]
     },
     "execution_count": 2,
     "metadata": {},
     "output_type": "execute_result"
    }
   ],
   "source": [
    "df = pd.read_csv(\"US_Accidents_Dec21_updated.csv\")\n",
    "df.head()"
   ]
  },
  {
   "cell_type": "markdown",
   "metadata": {},
   "source": [
    "## Creating the Location Dimension dataframe and updating the original dataframe:"
   ]
  },
  {
   "cell_type": "code",
   "execution_count": 3,
   "metadata": {},
   "outputs": [],
   "source": [
    "Location_ID = df.groupby(['City', 'County', 'State', 'Zipcode', 'Country', 'Timezone'], dropna=False).ngroup()"
   ]
  },
  {
   "cell_type": "code",
   "execution_count": 4,
   "metadata": {},
   "outputs": [],
   "source": [
    "insert_loc = df.columns.get_loc(\"Side\") + 1"
   ]
  },
  {
   "cell_type": "code",
   "execution_count": 5,
   "metadata": {},
   "outputs": [],
   "source": [
    "df.insert(loc = insert_loc, column = \"Location_ID\", value = Location_ID)"
   ]
  },
  {
   "cell_type": "code",
   "execution_count": 6,
   "metadata": {},
   "outputs": [],
   "source": [
    "df_location = df.loc[:, \"Location_ID\": \"Timezone\"]"
   ]
  },
  {
   "cell_type": "code",
   "execution_count": 7,
   "metadata": {},
   "outputs": [],
   "source": [
    "df_location = df_location.drop_duplicates()"
   ]
  },
  {
   "cell_type": "code",
   "execution_count": 8,
   "metadata": {},
   "outputs": [],
   "source": [
    "#df_location[df_location['Zipcode'].isnull()]"
   ]
  },
  {
   "cell_type": "code",
   "execution_count": 9,
   "metadata": {},
   "outputs": [],
   "source": [
    "df = df.drop(['City', 'County', 'State', 'Zipcode', 'Country', 'Timezone'], axis = 1)"
   ]
  },
  {
   "cell_type": "markdown",
   "metadata": {},
   "source": [
    "## Creating the POI Dimension dataframe and updating the original dataframe:"
   ]
  },
  {
   "cell_type": "code",
   "execution_count": 10,
   "metadata": {},
   "outputs": [],
   "source": [
    "POI_ID = df.groupby(['Amenity', 'Bump', 'Crossing', 'Give_Way', 'Junction', 'No_Exit', 'Railway', 'Roundabout', 'Station', 'Stop', 'Traffic_Calming', 'Traffic_Signal', 'Turning_Loop'], dropna = False).ngroup()"
   ]
  },
  {
   "cell_type": "code",
   "execution_count": 11,
   "metadata": {},
   "outputs": [],
   "source": [
    "insert_loc = df.columns.get_loc(\"Weather_Condition\") + 1"
   ]
  },
  {
   "cell_type": "code",
   "execution_count": 12,
   "metadata": {},
   "outputs": [],
   "source": [
    "df.insert(loc = insert_loc, column = \"POI_ID\", value = POI_ID)"
   ]
  },
  {
   "cell_type": "code",
   "execution_count": 13,
   "metadata": {},
   "outputs": [],
   "source": [
    "df_POI = df.loc[:, \"POI_ID\": \"Turning_Loop\"]"
   ]
  },
  {
   "cell_type": "code",
   "execution_count": 14,
   "metadata": {},
   "outputs": [],
   "source": [
    "df_POI = df_POI.drop_duplicates()"
   ]
  },
  {
   "cell_type": "code",
   "execution_count": 15,
   "metadata": {},
   "outputs": [],
   "source": [
    "df = df.drop(['Amenity', 'Bump', 'Crossing', 'Give_Way', 'Junction', 'No_Exit', 'Railway', 'Roundabout', 'Station', 'Stop', 'Traffic_Calming', 'Traffic_Signal', 'Turning_Loop'], axis = 1)"
   ]
  },
  {
   "cell_type": "markdown",
   "metadata": {},
   "source": [
    "## Renaming the columns to work in BigQuery and transforming some columns "
   ]
  },
  {
   "cell_type": "code",
   "execution_count": 16,
   "metadata": {},
   "outputs": [],
   "source": [
    "df.columns = ['ID', 'Severity', 'Start_Time', 'End_Time', 'Start_Lat', 'Start_Lng',\n",
    "       'End_Lat', 'End_Lng', 'Distance_mi', 'Description', 'Number', 'Street',\n",
    "       'Side', 'Location_ID', 'Airport_Code', 'Weather_Timestamp',\n",
    "       'Temperature_F', 'Wind_Chill_F', 'Humidity', 'Pressure_in',\n",
    "       'Visibility_mi', 'Wind_Direction', 'Wind_Speed_mph',\n",
    "       'Precipitation_in', 'Weather_Condition', 'POI_ID', 'Sunrise_Sunset',\n",
    "       'Civil_Twilight', 'Nautical_Twilight', 'Astronomical_Twilight']"
   ]
  },
  {
   "cell_type": "code",
   "execution_count": 17,
   "metadata": {},
   "outputs": [],
   "source": [
    "df['Start_Time'] = pd.to_datetime(df['Start_Time']).dt.floor('S')\n",
    "df['End_Time'] = pd.to_datetime(df['End_Time']).dt.floor('S')\n",
    "df['Weather_Timestamp'] = pd.to_datetime(df['Weather_Timestamp']).dt.floor('S')"
   ]
  },
  {
   "cell_type": "markdown",
   "metadata": {},
   "source": [
    "## Exporting the 3 dataframes into separate CSV files "
   ]
  },
  {
   "cell_type": "code",
   "execution_count": 18,
   "metadata": {},
   "outputs": [],
   "source": [
    "df.to_csv(\"Accidents_fact_table.csv\", index = False)"
   ]
  },
  {
   "cell_type": "code",
   "execution_count": 19,
   "metadata": {},
   "outputs": [],
   "source": [
    "df_location.to_csv(\"Location_dimension_table.csv\", index = False)"
   ]
  },
  {
   "cell_type": "code",
   "execution_count": 20,
   "metadata": {},
   "outputs": [],
   "source": [
    "df_POI.to_csv(\"POI_dimension_table.csv\", index = False)"
   ]
  }
 ],
 "metadata": {
  "kernelspec": {
   "display_name": "Python 3",
   "language": "python",
   "name": "python3"
  },
  "language_info": {
   "codemirror_mode": {
    "name": "ipython",
    "version": 3
   },
   "file_extension": ".py",
   "mimetype": "text/x-python",
   "name": "python",
   "nbconvert_exporter": "python",
   "pygments_lexer": "ipython3",
   "version": "3.8.5"
  }
 },
 "nbformat": 4,
 "nbformat_minor": 4
}
